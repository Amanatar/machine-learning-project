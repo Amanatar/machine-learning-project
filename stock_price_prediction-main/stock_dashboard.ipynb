{
 "cells": [
  {
   "cell_type": "code",
   "execution_count": null,
   "id": "fe536b24-269a-4ce9-bfad-16ed6ca8fe6c",
   "metadata": {},
   "outputs": [
    {
     "name": "stdout",
     "output_type": "stream",
     "text": [
      "Collecting dash\n",
      "  Downloading dash-2.18.0-py3-none-any.whl.metadata (10 kB)\n",
      "Requirement already satisfied: Flask<3.1,>=1.0.4 in c:\\users\\lenovo\\anaconda3\\lib\\site-packages (from dash) (3.0.3)\n",
      "Requirement already satisfied: Werkzeug<3.1 in c:\\users\\lenovo\\anaconda3\\lib\\site-packages (from dash) (3.0.3)\n",
      "Requirement already satisfied: plotly>=5.0.0 in c:\\users\\lenovo\\anaconda3\\lib\\site-packages (from dash) (5.22.0)\n",
      "Collecting dash-html-components==2.0.0 (from dash)\n",
      "  Downloading dash_html_components-2.0.0-py3-none-any.whl.metadata (3.8 kB)\n",
      "Collecting dash-core-components==2.0.0 (from dash)\n",
      "  Downloading dash_core_components-2.0.0-py3-none-any.whl.metadata (2.9 kB)\n",
      "Collecting dash-table==5.0.0 (from dash)\n",
      "  Downloading dash_table-5.0.0-py3-none-any.whl.metadata (2.4 kB)\n",
      "Requirement already satisfied: importlib-metadata in c:\\users\\lenovo\\anaconda3\\lib\\site-packages (from dash) (7.0.1)\n",
      "Requirement already satisfied: typing-extensions>=4.1.1 in c:\\users\\lenovo\\anaconda3\\lib\\site-packages (from dash) (4.11.0)\n",
      "Requirement already satisfied: requests in c:\\users\\lenovo\\anaconda3\\lib\\site-packages (from dash) (2.32.2)\n",
      "Collecting retrying (from dash)\n",
      "  Downloading retrying-1.3.4-py3-none-any.whl.metadata (6.9 kB)\n",
      "Requirement already satisfied: nest-asyncio in c:\\users\\lenovo\\appdata\\roaming\\python\\python312\\site-packages (from dash) (1.6.0)\n",
      "Requirement already satisfied: setuptools in c:\\users\\lenovo\\anaconda3\\lib\\site-packages (from dash) (69.5.1)\n",
      "Requirement already satisfied: Jinja2>=3.1.2 in c:\\users\\lenovo\\anaconda3\\lib\\site-packages (from Flask<3.1,>=1.0.4->dash) (3.1.4)\n",
      "Requirement already satisfied: itsdangerous>=2.1.2 in c:\\users\\lenovo\\anaconda3\\lib\\site-packages (from Flask<3.1,>=1.0.4->dash) (2.2.0)\n",
      "Requirement already satisfied: click>=8.1.3 in c:\\users\\lenovo\\anaconda3\\lib\\site-packages (from Flask<3.1,>=1.0.4->dash) (8.1.7)\n",
      "Requirement already satisfied: blinker>=1.6.2 in c:\\users\\lenovo\\anaconda3\\lib\\site-packages (from Flask<3.1,>=1.0.4->dash) (1.6.2)\n",
      "Requirement already satisfied: tenacity>=6.2.0 in c:\\users\\lenovo\\anaconda3\\lib\\site-packages (from plotly>=5.0.0->dash) (8.2.2)\n",
      "Requirement already satisfied: packaging in c:\\users\\lenovo\\anaconda3\\lib\\site-packages (from plotly>=5.0.0->dash) (23.2)\n",
      "Requirement already satisfied: MarkupSafe>=2.1.1 in c:\\users\\lenovo\\anaconda3\\lib\\site-packages (from Werkzeug<3.1->dash) (2.1.3)\n",
      "Requirement already satisfied: zipp>=0.5 in c:\\users\\lenovo\\anaconda3\\lib\\site-packages (from importlib-metadata->dash) (3.17.0)\n",
      "Requirement already satisfied: charset-normalizer<4,>=2 in c:\\users\\lenovo\\anaconda3\\lib\\site-packages (from requests->dash) (2.0.4)\n",
      "Requirement already satisfied: idna<4,>=2.5 in c:\\users\\lenovo\\anaconda3\\lib\\site-packages (from requests->dash) (3.7)\n",
      "Requirement already satisfied: urllib3<3,>=1.21.1 in c:\\users\\lenovo\\anaconda3\\lib\\site-packages (from requests->dash) (2.2.2)\n",
      "Requirement already satisfied: certifi>=2017.4.17 in c:\\users\\lenovo\\anaconda3\\lib\\site-packages (from requests->dash) (2024.7.4)\n",
      "Requirement already satisfied: six>=1.7.0 in c:\\users\\lenovo\\anaconda3\\lib\\site-packages (from retrying->dash) (1.16.0)\n",
      "Requirement already satisfied: colorama in c:\\users\\lenovo\\appdata\\roaming\\python\\python312\\site-packages (from click>=8.1.3->Flask<3.1,>=1.0.4->dash) (0.4.6)\n",
      "Downloading dash-2.18.0-py3-none-any.whl (7.5 MB)\n",
      "   ---------------------------------------- 0.0/7.5 MB ? eta -:--:--\n",
      "   ---------------------------------------- 0.0/7.5 MB ? eta -:--:--\n",
      "   ---------------------------------------- 0.0/7.5 MB 1.3 MB/s eta 0:00:06\n",
      "   ---------------------------------------- 0.1/7.5 MB 762.6 kB/s eta 0:00:10\n",
      "    --------------------------------------- 0.1/7.5 MB 798.9 kB/s eta 0:00:10\n",
      "   - -------------------------------------- 0.2/7.5 MB 1.3 MB/s eta 0:00:06\n",
      "   - -------------------------------------- 0.4/7.5 MB 1.5 MB/s eta 0:00:05\n",
      "   -- ------------------------------------- 0.5/7.5 MB 1.8 MB/s eta 0:00:04\n",
      "   ---- ----------------------------------- 0.8/7.5 MB 2.3 MB/s eta 0:00:03\n",
      "   ----- ---------------------------------- 1.1/7.5 MB 2.8 MB/s eta 0:00:03\n",
      "   ------- -------------------------------- 1.5/7.5 MB 3.4 MB/s eta 0:00:02\n",
      "   ----------- ---------------------------- 2.1/7.5 MB 4.4 MB/s eta 0:00:02\n",
      "   -------------- ------------------------- 2.7/7.5 MB 4.9 MB/s eta 0:00:01\n",
      "   -------------- ------------------------- 2.8/7.5 MB 4.7 MB/s eta 0:00:02\n",
      "   ------------------ --------------------- 3.5/7.5 MB 5.4 MB/s eta 0:00:01\n",
      "   ------------------- -------------------- 3.7/7.5 MB 5.4 MB/s eta 0:00:01\n",
      "   ----------------------- ---------------- 4.3/7.5 MB 5.9 MB/s eta 0:00:01\n",
      "   -------------------------- ------------- 4.9/7.5 MB 6.2 MB/s eta 0:00:01\n",
      "   ----------------------------- ---------- 5.6/7.5 MB 6.6 MB/s eta 0:00:01\n",
      "   -------------------------------- ------- 6.2/7.5 MB 6.9 MB/s eta 0:00:01\n",
      "   ---------------------------------- ----- 6.5/7.5 MB 7.0 MB/s eta 0:00:01\n",
      "   ------------------------------------ --- 6.7/7.5 MB 7.0 MB/s eta 0:00:01\n",
      "   ---------------------------------------  7.5/7.5 MB 7.2 MB/s eta 0:00:01\n",
      "   ---------------------------------------- 7.5/7.5 MB 7.0 MB/s eta 0:00:00\n",
      "Downloading dash_core_components-2.0.0-py3-none-any.whl (3.8 kB)\n",
      "Downloading dash_html_components-2.0.0-py3-none-any.whl (4.1 kB)\n",
      "Downloading dash_table-5.0.0-py3-none-any.whl (3.9 kB)\n",
      "Downloading retrying-1.3.4-py3-none-any.whl (11 kB)\n",
      "Installing collected packages: dash-table, dash-html-components, dash-core-components, retrying, dash\n",
      "Successfully installed dash-2.18.0 dash-core-components-2.0.0 dash-html-components-2.0.0 dash-table-5.0.0 retrying-1.3.4\n",
      "Note: you may need to restart the kernel to use updated packages.\n"
     ]
    }
   ],
   "source": [
    "pip install dash\n"
   ]
  },
  {
   "cell_type": "code",
   "execution_count": null,
   "id": "0a5400b0-7b69-4489-8a7b-3c6adadc5d0f",
   "metadata": {},
   "outputs": [
    {
     "name": "stderr",
     "output_type": "stream",
     "text": [
      "C:\\Users\\lenovo\\AppData\\Local\\Temp\\ipykernel_8868\\3343794746.py:4: UserWarning: \n",
      "The dash_core_components package is deprecated. Please replace\n",
      "`import dash_core_components as dcc` with `from dash import dcc`\n",
      "  import dash_core_components as dcc\n",
      "C:\\Users\\lenovo\\AppData\\Local\\Temp\\ipykernel_8868\\3343794746.py:5: UserWarning: \n",
      "The dash_html_components package is deprecated. Please replace\n",
      "`import dash_html_components as html` with `from dash import html`\n",
      "  import dash_html_components as html\n"
     ]
    }
   ],
   "source": [
    "import datetime\n",
    "import yfinance as yf\n",
    "import dash\n",
    "import dash_core_components as dcc\n",
    "import dash_html_components as html\n",
    "from dash.dependencies import Input, Output"
   ]
  },
  {
   "cell_type": "code",
   "execution_count": null,
   "id": "9934dd87-b8c6-4d0a-ba99-0c497bd4c5ed",
   "metadata": {},
   "outputs": [],
   "source": [
    "app = dash.Dash()\n",
    "app.title = \"Stock Visualisation\"\n",
    " \n",
    "app.layout = html.Div(children=[\n",
    "    html.H1(\"Stock Visualisation Dashboard\"),\n",
    "    html.H4(\"Please enter the stock name\"),\n",
    "    dcc.Input(id='input', value='AAPL', type='text'),\n",
    "    html.Div(id='output-graph')\n",
    "])"
   ]
  },
  {
   "cell_type": "code",
   "execution_count": null,
   "id": "ede7a592-9836-4104-ad79-3d19435c4614",
   "metadata": {},
   "outputs": [],
   "source": [
    "# callback Decorator \n",
    "@app.callback(\n",
    "\tOutput(component_id='output-graph', component_property='children'),\n",
    "\t[Input(component_id='input', component_property='value')]\n",
    ")\n",
    "def update_graph(input_data):\n",
    "\tstart = datetime.datetime(2010, 1, 1)\n",
    "\tend = datetime.datetime.now()\n",
    "\n",
    "\ttry:\n",
    "\t\tdf = web.DataReader(input_data, 'yahoo', start, end)\n",
    "\n",
    "\t\tgraph = dcc.Graph(id =\"example\", figure ={\n",
    "\t\t\t'data':[{'x':df.index, 'y':df.Close, 'type':'line', 'name':input_data}],\n",
    "\t\t\t'layout':{\n",
    "\t\t\t\t'title':input_data\n",
    "\t\t\t}\n",
    "\t\t})\n",
    "\n",
    "\texcept:\n",
    "\t\tgraph = html.Div(\"Error retrieving stock data.\")\n",
    "\n",
    "\treturn graph\n"
   ]
  },
  {
   "cell_type": "code",
   "execution_count": null,
   "id": "7a8fcc86-fb65-4902-8d7b-6871aa1d303f",
   "metadata": {},
   "outputs": [
    {
     "data": {
      "text/html": [
       "\n",
       "        <iframe\n",
       "            width=\"100%\"\n",
       "            height=\"650\"\n",
       "            src=\"http://127.0.0.1:8050/\"\n",
       "            frameborder=\"0\"\n",
       "            allowfullscreen\n",
       "            \n",
       "        ></iframe>\n",
       "        "
      ],
      "text/plain": [
       "<IPython.lib.display.IFrame at 0x1e44c1e43b0>"
      ]
     },
     "metadata": {},
     "output_type": "display_data"
    }
   ],
   "source": [
    "if __name__ == '__main__':\n",
    "\tapp.run_server()\n"
   ]
  },
  {
   "cell_type": "code",
   "execution_count": null,
   "id": "b3206d94-63ad-4717-9e42-0488652649fb",
   "metadata": {},
   "outputs": [],
   "source": []
  }
 ],
 "metadata": {
  "kernelspec": {
   "display_name": "Python 3 (ipykernel)",
   "language": "python",
   "name": "python3"
  },
  "language_info": {
   "codemirror_mode": {
    "name": "ipython",
    "version": 3
   },
   "file_extension": ".py",
   "mimetype": "text/x-python",
   "name": "python",
   "nbconvert_exporter": "python",
   "pygments_lexer": "ipython3",
   "version": "3.12.4"
  }
 },
 "nbformat": 4,
 "nbformat_minor": 5
}
